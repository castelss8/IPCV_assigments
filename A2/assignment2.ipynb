{
 "cells": [
  {
   "cell_type": "markdown",
   "metadata": {
    "id": "MNBgGYg_lpVN"
   },
   "source": [
    "# Assignment Module 2: Product Classification\n",
    "\n",
    "The goal of this assignment is to implement a neural network that classifies smartphone pictures of products found in grocery stores. The assignment will be divided into two parts: first, you will be asked to implement from scratch your own neural network for image classification; then, you will fine-tune a pretrained network provided by PyTorch.\n"
   ]
  },
  {
   "cell_type": "markdown",
   "metadata": {
    "id": "dVTQUJ4uYH1w"
   },
   "source": [
    "## Preliminaries: the dataset\n",
    "\n",
    "The dataset you will be using contains natural images of products taken with a smartphone camera in different grocery stores:\n",
    "\n",
    "<p align=\"center\">\n",
    "  <img src=\"https://github.com/marcusklasson/GroceryStoreDataset/raw/master/sample_images/natural/Granny-Smith.jpg\" width=\"150\">\n",
    "  <img src=\"https://github.com/marcusklasson/GroceryStoreDataset/raw/master/sample_images/natural/Pink-Lady.jpg\" width=\"150\">\n",
    "  <img src=\"https://github.com/marcusklasson/GroceryStoreDataset/raw/master/sample_images/natural/Lemon.jpg\" width=\"150\">\n",
    "  <img src=\"https://github.com/marcusklasson/GroceryStoreDataset/raw/master/sample_images/natural/Banana.jpg\" width=\"150\">\n",
    "  <img src=\"https://github.com/marcusklasson/GroceryStoreDataset/raw/master/sample_images/natural/Vine-Tomato.jpg\" width=\"150\">\n",
    "</p>\n",
    "<p align=\"center\">\n",
    "  <img src=\"https://github.com/marcusklasson/GroceryStoreDataset/raw/master/sample_images/natural/Yellow-Onion.jpg\" width=\"150\">\n",
    "  <img src=\"https://github.com/marcusklasson/GroceryStoreDataset/raw/master/sample_images/natural/Green-Bell-Pepper.jpg\" width=\"150\">\n",
    "  <img src=\"https://github.com/marcusklasson/GroceryStoreDataset/raw/master/sample_images/natural/Arla-Standard-Milk.jpg\" width=\"150\">\n",
    "  <img src=\"https://github.com/marcusklasson/GroceryStoreDataset/raw/master/sample_images/natural/Oatly-Natural-Oatghurt.jpg\" width=\"150\">\n",
    "  <img src=\"https://github.com/marcusklasson/GroceryStoreDataset/raw/master/sample_images/natural/Alpro-Fresh-Soy-Milk.jpg\" width=\"150\">\n",
    "</p>\n",
    "\n",
    "The products belong to the following 43 classes:\n",
    "```\n",
    "0.  Apple\n",
    "1.  Avocado\n",
    "2.  Banana\n",
    "3.  Kiwi\n",
    "4.  Lemon\n",
    "5.  Lime\n",
    "6.  Mango\n",
    "7.  Melon\n",
    "8.  Nectarine\n",
    "9.  Orange\n",
    "10. Papaya\n",
    "11. Passion-Fruit\n",
    "12. Peach\n",
    "13. Pear\n",
    "14. Pineapple\n",
    "15. Plum\n",
    "16. Pomegranate\n",
    "17. Red-Grapefruit\n",
    "18. Satsumas\n",
    "19. Juice\n",
    "20. Milk\n",
    "21. Oatghurt\n",
    "22. Oat-Milk\n",
    "23. Sour-Cream\n",
    "24. Sour-Milk\n",
    "25. Soyghurt\n",
    "26. Soy-Milk\n",
    "27. Yoghurt\n",
    "28. Asparagus\n",
    "29. Aubergine\n",
    "30. Cabbage\n",
    "31. Carrots\n",
    "32. Cucumber\n",
    "33. Garlic\n",
    "34. Ginger\n",
    "35. Leek\n",
    "36. Mushroom\n",
    "37. Onion\n",
    "38. Pepper\n",
    "39. Potato\n",
    "40. Red-Beet\n",
    "41. Tomato\n",
    "42. Zucchini\n",
    "```\n",
    "\n",
    "The dataset is split into training (`train`), validation (`val`), and test (`test`) set."
   ]
  },
  {
   "cell_type": "markdown",
   "metadata": {
    "id": "1pdrmJRnJPd8"
   },
   "source": [
    "The following code cells download the dataset and define a `torch.utils.data.Dataset` class to access it. This `Dataset` class will be the starting point of your assignment: use it in your own code and build everything else around it."
   ]
  },
  {
   "cell_type": "code",
   "execution_count": 1,
   "metadata": {
    "id": "POMX_3x-_bZI"
   },
   "outputs": [
    {
     "name": "stderr",
     "output_type": "stream",
     "text": [
      "fatal: destination path 'GroceryStoreDataset' already exists and is not an empty directory.\n"
     ]
    }
   ],
   "source": [
    "!git clone https://github.com/marcusklasson/GroceryStoreDataset.git"
   ]
  },
  {
   "cell_type": "code",
   "execution_count": 1,
   "metadata": {
    "id": "hiF8xGEYlsu8"
   },
   "outputs": [],
   "source": [
    "import numpy as np\n",
    "from pathlib import Path\n",
    "from PIL import Image, ImageOps, ImageEnhance\n",
    "import cv2\n",
    "from typing import List, Tuple\n",
    "import copy\n",
    "\n",
    "import torch\n",
    "from torch import Tensor\n",
    "from torch.utils.data import Dataset, DataLoader\n",
    "import torchvision\n",
    "from torchvision import transforms\n",
    "import torch.nn as nn\n",
    "import torch.nn.functional as F\n",
    "import torch.optim as optim\n",
    "from torch.optim.lr_scheduler import StepLR\n",
    "from torchsummary import summary"
   ]
  },
  {
   "cell_type": "code",
   "execution_count": 2,
   "metadata": {},
   "outputs": [
    {
     "name": "stdout",
     "output_type": "stream",
     "text": [
      "2.5.1+cu118\n",
      "11.8\n",
      "True\n"
     ]
    }
   ],
   "source": [
    "print(torch.__version__)\n",
    "print(torch.version.cuda)\n",
    "print(torch.cuda.is_available())"
   ]
  },
  {
   "cell_type": "code",
   "execution_count": 3,
   "metadata": {},
   "outputs": [
    {
     "name": "stdout",
     "output_type": "stream",
     "text": [
      "Using device: cuda\n"
     ]
    }
   ],
   "source": [
    "device = torch.device(\"cuda\" if torch.cuda.is_available() else \"cpu\")\n",
    "print(f\"Using device: {device}\")"
   ]
  },
  {
   "cell_type": "code",
   "execution_count": 4,
   "metadata": {
    "id": "jROSO2qVDxdD"
   },
   "outputs": [],
   "source": [
    "class GroceryStoreDataset(Dataset):\n",
    "\n",
    "    def __init__(self, split: str, transform=None) -> None:\n",
    "        super().__init__()\n",
    "\n",
    "        self.root = Path(\"GroceryStoreDataset/dataset\")\n",
    "        self.split = split # used for splitting the dataset in train and test\n",
    "        self.paths, self.labels = self.read_file() #reading the labels and images\n",
    "\n",
    "        self.transform = transform \n",
    "\n",
    "    def __len__(self) -> int: #get the number of elements in the dataset\n",
    "        return len(self.labels)\n",
    "\n",
    "    def __getitem__(self, idx) -> Tuple[Tensor, int]: \n",
    "        img = Image.open(self.root / self.paths[idx])\n",
    "        label = self.labels[idx]\n",
    "\n",
    "        if self.transform:\n",
    "            img = self.transform(img)\n",
    "\n",
    "        return img, label\n",
    "\n",
    "    # legge un file di testo che contiene i percorsi delle immagini e le etichette associate\n",
    "    # restituisce due liste: una con percorsi delle immagini e una con le etichette\n",
    "    def read_file(self) -> Tuple[List[str], List[int]]: #outputs a tuple\n",
    "        paths = []\n",
    "        labels = []\n",
    "\n",
    "        with open(self.root / f\"{self.split}.txt\") as f:\n",
    "            for line in f:\n",
    "                # path, fine-grained class, coarse-grained class\n",
    "                path, _, label = line.replace(\"\\n\", \"\").split(\", \") #rimuove il carattere di nuova linea, e poi divide in 3 parti con virgola come separatore \n",
    "                paths.append(path), labels.append(int(label)) #salva solo percorsi ed etichette\n",
    "\n",
    "        return paths, labels\n",
    "\n",
    "    def get_num_classes(self) -> int:\n",
    "        return max(self.labels) + 1"
   ]
  },
  {
   "cell_type": "markdown",
   "metadata": {
    "id": "yBch3dpwNSsW"
   },
   "source": [
    "## Part 1: design your own network\n",
    "\n",
    "Your goal is to implement a convolutional neural network for image classification and train it on `GroceryStoreDataset`. You should consider yourselves satisfied once you obtain a classification accuracy on the **validation** split of **around 60%**. You are free to achieve that however you want, except for a few rules you must follow:\n",
    "\n",
    "- You **cannot** simply instantiate an off-the-self PyTorch network. Instead, you must construct your network as a composition of existing PyTorch layers. In more concrete terms, you can use e.g. `torch.nn.Linear`, but you **cannot** use e.g. `torchvision.models.alexnet`.\n",
    "\n",
    "- Justify every *design choice* you make. Design choices include network architecture, training hyperparameters, and, possibly, dataset preprocessing steps. You can either (i) start from the simplest convolutional network you can think of and add complexity one step at a time, while showing how each step gets you closer to the target ~60%, or (ii) start from a model that is already able to achieve the desired accuracy and show how, by removing some of its components, its performance drops (i.e. an *ablation study*). You can *show* your results/improvements however you want: training plots, console-printed values or tables, or whatever else your heart desires: the clearer, the better.\n",
    "\n",
    "Don't be too concerned with your network performance: the ~60% is just to give you an idea of when to stop. Keep in mind that a thoroughly justified model with lower accuracy will be rewarded **more** points than a poorly experimentally validated model with higher accuracy."
   ]
  },
  {
   "cell_type": "code",
   "execution_count": 14,
   "metadata": {},
   "outputs": [
    {
     "name": "stdout",
     "output_type": "stream",
     "text": [
      "Mean: tensor([0.5306, 0.3964, 0.2564])\n",
      "Std: tensor([0.2293, 0.2060, 0.1746])\n"
     ]
    }
   ],
   "source": [
    "def calculate_mean_std(dataloader):\n",
    "    mean = 0.0\n",
    "    std = 0.0\n",
    "    total_images_count = 0\n",
    "\n",
    "    for images, _ in dataloader:\n",
    "        batch_samples = images.size(0)  # batch size (the last batch can have smaller size)\n",
    "        images = images.view(batch_samples, images.size(1), -1)\n",
    "        mean += images.mean(2).sum(0)\n",
    "        std += images.std(2).sum(0)\n",
    "        total_images_count += batch_samples\n",
    "\n",
    "    mean /= total_images_count\n",
    "    std /= total_images_count\n",
    "\n",
    "    return mean, std\n",
    "\n",
    "# Calculate mean and std\n",
    "mean, std = calculate_mean_std(train_loader)\n",
    "\n",
    "print(f\"Mean: {mean}\") \n",
    "print(f\"Std: {std}\")"
   ]
  },
  {
   "cell_type": "code",
   "execution_count": 15,
   "metadata": {},
   "outputs": [],
   "source": [
    "transform = transforms.Compose([\n",
    "    transforms.Resize((224, 224)),\n",
    "    transforms.ToTensor(),\n",
    "    transforms.Normalize(mean=mean, std=std),\n",
    "])"
   ]
  },
  {
   "cell_type": "code",
   "execution_count": 16,
   "metadata": {},
   "outputs": [],
   "source": [
    "train_dataset = GroceryStoreDataset(split=\"train\", transform=transform)\n",
    "test_dataset = GroceryStoreDataset(split=\"test\", transform=transform)\n",
    "val_dataset = GroceryStoreDataset(split=\"val\", transform=transform)"
   ]
  },
  {
   "cell_type": "code",
   "execution_count": 17,
   "metadata": {},
   "outputs": [
    {
     "name": "stdout",
     "output_type": "stream",
     "text": [
      "Number of elements in the train dataset: 2640\n",
      "Number of elements in the test dataset: 2485\n",
      "Number of elements in the val dataset: 296\n"
     ]
    }
   ],
   "source": [
    "train_elements = len(train_dataset)\n",
    "print(f\"Number of elements in the train dataset: {train_elements}\")\n",
    "\n",
    "test_elements = len(test_dataset)\n",
    "print(f\"Number of elements in the test dataset: {test_elements}\")\n",
    "\n",
    "val_elements = len(val_dataset)\n",
    "print(f\"Number of elements in the val dataset: {val_elements}\")"
   ]
  },
  {
   "cell_type": "code",
   "execution_count": 18,
   "metadata": {},
   "outputs": [
    {
     "name": "stdout",
     "output_type": "stream",
     "text": [
      "Label: 29\n"
     ]
    }
   ],
   "source": [
    "img, label = train_dataset[2040]\n",
    "print(f\"Label: {label}\")\n",
    "#img.show()  # Mostra l'immagine"
   ]
  },
  {
   "cell_type": "code",
   "execution_count": 19,
   "metadata": {},
   "outputs": [
    {
     "name": "stdout",
     "output_type": "stream",
     "text": [
      "Images shape:  torch.Size([3, 224, 224])\n"
     ]
    }
   ],
   "source": [
    "#transform = transforms.ToTensor()\n",
    "#img_tensor = transform(img)\n",
    "print(f\"Images shape: \", img.shape)"
   ]
  },
  {
   "cell_type": "markdown",
   "metadata": {},
   "source": [
    "Initial images shape:  torch.Size([3, 348, 348])\n",
    "- 3 canali = immagine a colori (rgb)\n",
    "- 348 pixel di altezza\n",
    "- 348 pixel di larghezza\n",
    "\n",
    "è un'immagine rgb quadrata con risolutione 348x348 pixel\n",
    "\n",
    "Trasformata in torch.Size([3, 224, 224]) - necessario che rimanga così perchè le resnet richiedono questa size"
   ]
  },
  {
   "cell_type": "code",
   "execution_count": 20,
   "metadata": {},
   "outputs": [
    {
     "name": "stdout",
     "output_type": "stream",
     "text": [
      "Num classes in train dataset:  43\n",
      "Num classes in test dataset:  43\n",
      "Num classes in val dataset:  43\n"
     ]
    }
   ],
   "source": [
    "train_num_classes = train_dataset.get_num_classes()\n",
    "print(f\"Num classes in train dataset: \", train_num_classes) #43 perchè la prima ha index 0\n",
    "\n",
    "test_num_classes = test_dataset.get_num_classes()\n",
    "print(f\"Num classes in test dataset: \", test_num_classes)\n",
    "\n",
    "val_num_classes = val_dataset.get_num_classes()\n",
    "print(f\"Num classes in val dataset: \", val_num_classes)\n",
    "\n",
    "#ogni dataset ha lo stesso numero di classi, lo split è stato fatto corettamente "
   ]
  },
  {
   "cell_type": "code",
   "execution_count": 22,
   "metadata": {},
   "outputs": [
    {
     "name": "stdout",
     "output_type": "stream",
     "text": [
      "First 5 paths: ['train/Fruit/Apple/Golden-Delicious/Golden-Delicious_001.jpg', 'train/Fruit/Apple/Golden-Delicious/Golden-Delicious_002.jpg', 'train/Fruit/Apple/Golden-Delicious/Golden-Delicious_003.jpg', 'train/Fruit/Apple/Golden-Delicious/Golden-Delicious_004.jpg', 'train/Fruit/Apple/Golden-Delicious/Golden-Delicious_005.jpg']\n",
      "First 5 labels: [0, 0, 0, 0, 0]\n"
     ]
    }
   ],
   "source": [
    "paths, labels = train_dataset.read_file()\n",
    "\n",
    "# Stampare i primi 5 percorsi e le etichette corrispondenti\n",
    "print(\"First 5 paths:\", paths[:5])\n",
    "print(\"First 5 labels:\", labels[:5])"
   ]
  },
  {
   "cell_type": "markdown",
   "metadata": {},
   "source": [
    "# Simple CNN \n",
    "\n",
    "https://www.digitalocean.com/community/tutorials/writing-cnns-from-scratch-in-pytorch\n"
   ]
  },
  {
   "cell_type": "markdown",
   "metadata": {},
   "source": [
    " The first layer of a CNN is always a convolutional layer. A convolutional layer applies a filter (or kernel) to the input, and passes the result to the next layer. The filter is usually smaller that the image (most often, we can find 3x3 or 5x5 filters), and it moves across the image from top left to bottom right, detecting different features and simplifying the image before passing it onto the next layer. With each convolutional layer, we have to use an activation function. ReLU is a linear function that became the default activation function for many types of neural networks, because it makes the model easy to train, doesn‘t get the vanishing gradient problem compared to Sigmoid and TanH, and often achieves better results.\n",
    "\n",
    "Conv2D\n",
    "\n",
    "There are many different types of convolutional layers, but 2D Convolution Layer (Conv2D) is the most common one. The filter \"slides\" over the 2D input data and multiplies each pixel. As a result, it sums up everything to a single output pixel.\n",
    "\n",
    "Input shape\n",
    "\n",
    "As input, CNN takes tensors of shape (image_height, image_width, color_channels). For color images, color channels are RGB (red, green, blue). The format of CIFAR images is (32, 32, 3), so that‘s what we will pass to the CNN."
   ]
  },
  {
   "cell_type": "code",
   "execution_count": 18,
   "metadata": {},
   "outputs": [
    {
     "name": "stdout",
     "output_type": "stream",
     "text": [
      "----------------------------------------------------------------\n",
      "        Layer (type)               Output Shape         Param #\n",
      "================================================================\n",
      "            Conv2d-1          [-1, 6, 220, 220]             456\n",
      "         MaxPool2d-2          [-1, 6, 110, 110]               0\n",
      "            Conv2d-3         [-1, 16, 106, 106]           2,416\n",
      "         MaxPool2d-4           [-1, 16, 53, 53]               0\n",
      "            Linear-5                  [-1, 120]       5,393,400\n",
      "            Linear-6                   [-1, 84]          10,164\n",
      "            Linear-7                   [-1, 43]           3,655\n",
      "================================================================\n",
      "Total params: 5,410,091\n",
      "Trainable params: 5,410,091\n",
      "Non-trainable params: 0\n",
      "----------------------------------------------------------------\n",
      "Input size (MB): 0.57\n",
      "Forward/backward pass size (MB): 4.49\n",
      "Params size (MB): 20.64\n",
      "Estimated Total Size (MB): 25.70\n",
      "----------------------------------------------------------------\n"
     ]
    }
   ],
   "source": [
    "class SimpleCNN(nn.Module):\n",
    "    def __init__(self):\n",
    "        super(SimpleCNN, self).__init__()\n",
    "        self.conv1 = nn.Conv2d(in_channels=3, out_channels=6, kernel_size=5)\n",
    "        self.pool = nn.MaxPool2d(kernel_size=2, stride=2)\n",
    "        self.conv2 = nn.Conv2d(in_channels=6, out_channels=16, kernel_size=5)\n",
    "        self.fc1 = nn.Linear(in_features=16 * 53 * 53, out_features=120)\n",
    "        self.fc2 = nn.Linear(in_features=120, out_features=84)\n",
    "        self.fc3 = nn.Linear(in_features=84, out_features=43)\n",
    "\n",
    "    def forward(self, x):\n",
    "        x = self.pool(F.relu(self.conv1(x)))\n",
    "        x = self.pool(F.relu(self.conv2(x)))\n",
    "        x = x.view(-1, 16 * 53 * 53)\n",
    "        x = F.relu(self.fc1(x))\n",
    "        x = F.relu(self.fc2(x))\n",
    "        x = self.fc3(x)\n",
    "        return x\n",
    "\n",
    "s_cnn = SimpleCNN()\n",
    "s_cnn.to(device)\n",
    "summary(s_cnn, input_size=(3, 224, 224), device=\"cuda\" if torch.cuda.is_available() else \"cpu\")"
   ]
  },
  {
   "cell_type": "markdown",
   "metadata": {},
   "source": [
    "\n",
    "**kernel_size**\n",
    "\n",
    "- specifica la dimensione della finestra del filtro che viene applicata all'immagine durante l'operazione di convoluzione\n",
    "- se kernel_size=3 allora il filtro sarà una matrice 3x3\n",
    "- un kernel grande cattura più contesto dell'immaigne ma aumenta anche il numero di parametri e il costo computazionale \n",
    "\n",
    "**stride**\n",
    "- specifica di quanti pixel il filtro si sposta o striscia (?) sull'immagine durante l'operazione di convoluzione\n",
    "- se stride=1 si sposta di un pixel alla volta, se stride=2 di due pixel alla volta e così via \n",
    "- un stride maggiore riduce la dimensione spaziale dell'output poichè il filtro copre meno posizioni sull'immagine\n",
    "\n",
    "**padding**\n",
    "- aggiunge pixel extra (tipicamente con valore zero) attorno ai bordi dell'immagine prima di applicare la convoluzione\n",
    "- se padding=1 viene aggiunto un bordo di un pixel attorno all'immagine\n",
    "- aiuta a preservare la dimensione spaziale dell'immagine dopo la convoluzione, senza la dimensione dell'immagine si riduce ad ogni convoluzione"
   ]
  },
  {
   "cell_type": "markdown",
   "metadata": {},
   "source": [
    "**MaxPooling (MaxPool2d)**\n",
    "\n",
    "Il layer di Max Pooling (MaxPool2d in PyTorch) è utilizzato nelle reti neurali convoluzionali (CNN) per ridurre la dimensione spaziale (altezza e larghezza) dell'input (che porta a una riduzione del numero di parametri e del costo computazionale nei layer successivi), mantenendo le caratteristiche più importanti (seleziona il valore massimo in ogni finestra del kernel). Questo processo è noto come \"downsampling\". Utile anche per la riduzione di overfitting. \n",
    "Gli strati di maxpooling tipicamente vengono aggiunti dopo ogni convolutional layer insieme a un layer relu"
   ]
  },
  {
   "cell_type": "code",
   "execution_count": 22,
   "metadata": {},
   "outputs": [],
   "source": [
    "class CNN_2(nn.Module):\n",
    "    def __init__(self, num_classes=43):\n",
    "        super(CNN_2, self).__init__()\n",
    "        self.conv1 = nn.Conv2d(in_channels=3, out_channels=32, kernel_size=3, stride=1, padding=1)\n",
    "        self.bn1 = nn.BatchNorm2d(32)\n",
    "        self.conv2 = nn.Conv2d(in_channels=32, out_channels=32, kernel_size=3, stride=1, padding=1)\n",
    "        self.bn2 = nn.BatchNorm2d(32)\n",
    "        self.pool1 = nn.MaxPool2d(kernel_size=2, stride=2)\n",
    "        self.dropout1 = nn.Dropout(0.25)\n",
    "        \n",
    "        self.conv3 = nn.Conv2d(in_channels=32, out_channels=64, kernel_size=3, stride=1, padding=1)\n",
    "        self.bn3 = nn.BatchNorm2d(64)\n",
    "        self.conv4 = nn.Conv2d(in_channels=64, out_channels=64, kernel_size=3, stride=1, padding=1)\n",
    "        self.bn4 = nn.BatchNorm2d(64)\n",
    "        self.pool2 = nn.MaxPool2d(kernel_size=2, stride=2)\n",
    "        self.dropout2 = nn.Dropout(0.25)\n",
    "        \n",
    "        self.fc1 = nn.Linear(64*56*56, 128)\n",
    "        self.relu1 = nn.ReLU()\n",
    "        self.dropout3 = nn.Dropout(0.5)\n",
    "        self.fc2 = nn.Linear(128, num_classes)\n",
    "\n",
    "    def forward(self, x):\n",
    "        out = self.conv1(x)\n",
    "        out = self.bn1(out)\n",
    "        out = self.relu1(out)\n",
    "        out = self.conv2(out)\n",
    "        out = self.bn2(out)\n",
    "        out = self.relu1(out)\n",
    "        out = self.pool1(out)\n",
    "        out = self.dropout1(out)\n",
    "        \n",
    "        out = self.conv3(out)\n",
    "        out = self.bn3(out)\n",
    "        out = self.relu1(out)\n",
    "        out = self.conv4(out)\n",
    "        out = self.bn4(out)\n",
    "        out = self.relu1(out)\n",
    "        out = self.pool2(out)\n",
    "        out = self.dropout2(out)\n",
    "                \n",
    "        out = out.reshape(out.size(0), -1)\n",
    "        \n",
    "        out = self.fc1(out)\n",
    "        out = self.relu1(out)\n",
    "        out = self.dropout3(out)\n",
    "        out = self.fc2(out)\n",
    "        return out"
   ]
  },
  {
   "cell_type": "code",
   "execution_count": 23,
   "metadata": {},
   "outputs": [
    {
     "name": "stdout",
     "output_type": "stream",
     "text": [
      "----------------------------------------------------------------\n",
      "        Layer (type)               Output Shape         Param #\n",
      "================================================================\n",
      "            Conv2d-1         [-1, 32, 224, 224]             896\n",
      "       BatchNorm2d-2         [-1, 32, 224, 224]              64\n",
      "              ReLU-3         [-1, 32, 224, 224]               0\n",
      "            Conv2d-4         [-1, 32, 224, 224]           9,248\n",
      "       BatchNorm2d-5         [-1, 32, 224, 224]              64\n",
      "              ReLU-6         [-1, 32, 224, 224]               0\n",
      "         MaxPool2d-7         [-1, 32, 112, 112]               0\n",
      "           Dropout-8         [-1, 32, 112, 112]               0\n",
      "            Conv2d-9         [-1, 64, 112, 112]          18,496\n",
      "      BatchNorm2d-10         [-1, 64, 112, 112]             128\n",
      "             ReLU-11         [-1, 64, 112, 112]               0\n",
      "           Conv2d-12         [-1, 64, 112, 112]          36,928\n",
      "      BatchNorm2d-13         [-1, 64, 112, 112]             128\n",
      "             ReLU-14         [-1, 64, 112, 112]               0\n",
      "        MaxPool2d-15           [-1, 64, 56, 56]               0\n",
      "          Dropout-16           [-1, 64, 56, 56]               0\n",
      "           Linear-17                  [-1, 128]      25,690,240\n",
      "             ReLU-18                  [-1, 128]               0\n",
      "          Dropout-19                  [-1, 128]               0\n",
      "           Linear-20                   [-1, 43]           5,547\n",
      "================================================================\n",
      "Total params: 25,761,739\n",
      "Trainable params: 25,761,739\n",
      "Non-trainable params: 0\n",
      "----------------------------------------------------------------\n",
      "Input size (MB): 0.57\n",
      "Forward/backward pass size (MB): 119.44\n",
      "Params size (MB): 98.27\n",
      "Estimated Total Size (MB): 218.29\n",
      "----------------------------------------------------------------\n"
     ]
    }
   ],
   "source": [
    "cnn_2 = CNN_2()\n",
    "cnn_2.to(device)\n",
    "summary(cnn_2, input_size=(3, 224, 224), device=\"cuda\" if torch.cuda.is_available() else \"cpu\")"
   ]
  },
  {
   "cell_type": "code",
   "execution_count": 24,
   "metadata": {},
   "outputs": [],
   "source": [
    "class MidCNN(nn.Module):\n",
    "    def __init__(self, num_classes=43):\n",
    "        super(MidCNN, self).__init__()\n",
    "        self.conv1 = nn.Conv2d(in_channels=3, out_channels=16, kernel_size=5)\n",
    "        self.pool1 = nn.MaxPool2d(kernel_size=2, stride=2)\n",
    "        self.conv2 = nn.Conv2d(in_channels=16, out_channels=32, kernel_size=5)\n",
    "        self.pool2 = nn.MaxPool2d(kernel_size=2, stride=2)\n",
    "        self.conv3 = nn.Conv2d(in_channels=32, out_channels=64, kernel_size=3, stride=1, padding=1)\n",
    "        self.pool3 = nn.MaxPool2d(kernel_size=2, stride=2)\n",
    "        \n",
    "        self._to_linear = None\n",
    "        self.convs(torch.randn(1, 3, 224, 224))\n",
    "        \n",
    "        self.fc1 = nn.Linear(self._to_linear, 128)\n",
    "        self.fc2 = nn.Linear(128, 84)\n",
    "        self.fc3 = nn.Linear(84, num_classes)\n",
    "        \n",
    "        self.dropout = nn.Dropout(0.5)\n",
    "\n",
    "    def convs(self, x):\n",
    "        x = self.pool1(F.relu(self.conv1(x)))\n",
    "        x = self.pool2(F.relu(self.conv2(x)))\n",
    "        x = self.pool3(F.relu(self.conv3(x)))\n",
    "        if self._to_linear is None:\n",
    "            self._to_linear = x.view(-1).shape[0]\n",
    "        return x\n",
    "\n",
    "    def forward(self, x):\n",
    "        x = self.convs(x)\n",
    "        x = x.view(-1, self._to_linear)\n",
    "        x = F.relu(self.fc1(x))\n",
    "        x = self.dropout(x)\n",
    "        x = F.relu(self.fc2(x))\n",
    "        x = self.fc3(x)\n",
    "        return x"
   ]
  },
  {
   "cell_type": "code",
   "execution_count": 25,
   "metadata": {},
   "outputs": [
    {
     "name": "stdout",
     "output_type": "stream",
     "text": [
      "----------------------------------------------------------------\n",
      "        Layer (type)               Output Shape         Param #\n",
      "================================================================\n",
      "            Conv2d-1         [-1, 16, 220, 220]           1,216\n",
      "         MaxPool2d-2         [-1, 16, 110, 110]               0\n",
      "            Conv2d-3         [-1, 32, 106, 106]          12,832\n",
      "         MaxPool2d-4           [-1, 32, 53, 53]               0\n",
      "            Conv2d-5           [-1, 64, 53, 53]          18,496\n",
      "         MaxPool2d-6           [-1, 64, 26, 26]               0\n",
      "            Linear-7                  [-1, 128]       5,537,920\n",
      "           Dropout-8                  [-1, 128]               0\n",
      "            Linear-9                   [-1, 84]          10,836\n",
      "           Linear-10                   [-1, 43]           3,655\n",
      "================================================================\n",
      "Total params: 5,584,955\n",
      "Trainable params: 5,584,955\n",
      "Non-trainable params: 0\n",
      "----------------------------------------------------------------\n",
      "Input size (MB): 0.57\n",
      "Forward/backward pass size (MB): 12.52\n",
      "Params size (MB): 21.30\n",
      "Estimated Total Size (MB): 34.40\n",
      "----------------------------------------------------------------\n"
     ]
    }
   ],
   "source": [
    "mid_cnn= MidCNN()\n",
    "mid_cnn.to(device)\n",
    "summary(mid_cnn, input_size=(3, 224, 224), device=\"cuda\" if torch.cuda.is_available() else \"cpu\")"
   ]
  },
  {
   "cell_type": "markdown",
   "metadata": {},
   "source": [
    "#### hyperparameters"
   ]
  },
  {
   "cell_type": "code",
   "execution_count": 26,
   "metadata": {},
   "outputs": [],
   "source": [
    "#loss function\n",
    "loss_fn = nn.CrossEntropyLoss()\n",
    "\n",
    "#optimizer\n",
    "optimizer = optim.AdamW(mid_cnn.parameters(), lr=0.0001, weight_decay=0.0001)\n",
    "\n",
    "scheduler = StepLR(optimizer, step_size=7, gamma=0.1) #Il StepLR scheduler riduce il tasso di apprendimento di un fattore specificato (gamma) ogni determinato numero di epoche (step_size). Questo può aiutare il modello a convergere in modo più stabile e a evitare di oscillare o di rimanere bloccato in minimi locali.\n",
    "\n",
    "batch_size = 32\n",
    "num_epochs =30\n",
    "patience = 7"
   ]
  },
  {
   "cell_type": "markdown",
   "metadata": {},
   "source": [
    "### DataLoader"
   ]
  },
  {
   "cell_type": "code",
   "execution_count": 27,
   "metadata": {},
   "outputs": [],
   "source": [
    "train_loader = DataLoader(dataset=train_dataset, batch_size=batch_size, shuffle=True)\n",
    "test_loader = DataLoader(dataset=test_dataset, batch_size=batch_size, shuffle=False)\n",
    "val_loader = DataLoader(dataset=val_dataset, batch_size=batch_size, shuffle=False)"
   ]
  },
  {
   "cell_type": "code",
   "execution_count": 28,
   "metadata": {},
   "outputs": [],
   "source": [
    "def train_model(model, train_loader, val_loader, num_epochs, patience, optimizer, loss_fn, scheduler):\n",
    "    best_model_wts = copy.deepcopy(model.state_dict())\n",
    "    best_loss = float('inf')\n",
    "    early_stop_counter = 0\n",
    "\n",
    "    train_losses = []\n",
    "    train_accuracies = []\n",
    "    val_losses = []\n",
    "    val_accuracies = []\n",
    "\n",
    "    for epoch in range(num_epochs):\n",
    "\n",
    "        # Initialize metrics for this epoch\n",
    "        epoch_train_loss = 0.0\n",
    "        epoch_train_acc = 0.0\n",
    "        epoch_val_loss = 0.0\n",
    "        epoch_val_acc = 0.0\n",
    "\n",
    "        # Training phase\n",
    "        model.train()  # Set model to training mode\n",
    "        running_loss = 0.0\n",
    "        running_corrects = 0\n",
    "\n",
    "        for inputs, labels in train_loader:\n",
    "            inputs = inputs.to(device)\n",
    "            labels = labels.to(device)\n",
    "\n",
    "            optimizer.zero_grad()\n",
    "\n",
    "            outputs = model(inputs)\n",
    "            loss = loss_fn(outputs, labels)\n",
    "            _, preds = torch.max(outputs, 1)\n",
    "\n",
    "            loss.backward()\n",
    "            optimizer.step()\n",
    "\n",
    "            running_loss += loss.item() * inputs.size(0)\n",
    "            running_corrects += torch.sum(preds == labels.data)\n",
    "\n",
    "        epoch_train_loss = running_loss / len(train_loader.dataset)\n",
    "        epoch_train_acc = running_corrects.double() / len(train_loader.dataset)\n",
    "\n",
    "        # Validation phase\n",
    "        model.eval()   # Set model to evaluate mode\n",
    "        running_loss = 0.0\n",
    "        running_corrects = 0\n",
    "\n",
    "        with torch.no_grad():\n",
    "            for inputs, labels in val_loader:\n",
    "                inputs = inputs.to(device)\n",
    "                labels = labels.to(device)\n",
    "\n",
    "                outputs = model(inputs)\n",
    "                loss = loss_fn(outputs, labels)\n",
    "                _, preds = torch.max(outputs, 1)\n",
    "\n",
    "                running_loss += loss.item() * inputs.size(0)\n",
    "                running_corrects += torch.sum(preds == labels.data)\n",
    "\n",
    "        epoch_val_loss = running_loss / len(val_loader.dataset)\n",
    "        epoch_val_acc = running_corrects.double() / len(val_loader.dataset)\n",
    "\n",
    "        # Print metrics\n",
    "        print(f\"Epoch [{epoch+1}/{num_epochs}], \"\n",
    "              f'Train Loss: {epoch_train_loss:.4f} Acc: {epoch_train_acc:.4f} | '\n",
    "              f'Val Loss: {epoch_val_loss:.4f} Acc: {epoch_val_acc:.4f}')\n",
    "\n",
    "        # Save losses and accuracies\n",
    "        train_losses.append(epoch_train_loss)\n",
    "        train_accuracies.append(epoch_train_acc.item())\n",
    "        val_losses.append(epoch_val_loss)\n",
    "        val_accuracies.append(epoch_val_acc.item())\n",
    "\n",
    "        # Deep copy the model if validation accuracy improves\n",
    "        if epoch_val_loss <= best_loss:\n",
    "            best_loss = epoch_val_loss\n",
    "            best_model_wts = copy.deepcopy(model.state_dict())\n",
    "            early_stop_counter = 0\n",
    "        else:\n",
    "            early_stop_counter += 1\n",
    "\n",
    "        # Early stopping\n",
    "        if early_stop_counter >= patience:\n",
    "            print(\"Early stopping triggered\")\n",
    "            break\n",
    "\n",
    "        # Step the scheduler\n",
    "        scheduler.step()\n",
    "\n",
    "    print(f'Minimun val loss: {best_loss:.4f}')\n",
    "\n",
    "    # Load best model weights\n",
    "    model.load_state_dict(best_model_wts)\n",
    "    return model, train_losses, train_accuracies, val_losses, val_accuracies"
   ]
  },
  {
   "cell_type": "code",
   "execution_count": 29,
   "metadata": {},
   "outputs": [
    {
     "name": "stdout",
     "output_type": "stream",
     "text": [
      "Epoch [1/30], Train Loss: 3.5010 Acc: 0.1129 | Val Loss: 3.3110 Acc: 0.1486\n",
      "Epoch [2/30], Train Loss: 3.0904 Acc: 0.1833 | Val Loss: 3.0979 Acc: 0.2297\n",
      "Epoch [3/30], Train Loss: 2.8397 Acc: 0.2364 | Val Loss: 2.9557 Acc: 0.2331\n",
      "Epoch [4/30], Train Loss: 2.6477 Acc: 0.2708 | Val Loss: 2.8965 Acc: 0.2297\n",
      "Epoch [5/30], Train Loss: 2.4958 Acc: 0.3045 | Val Loss: 2.8308 Acc: 0.2196\n",
      "Epoch [6/30], Train Loss: 2.3470 Acc: 0.3250 | Val Loss: 2.7952 Acc: 0.2162\n",
      "Epoch [7/30], Train Loss: 2.2367 Acc: 0.3583 | Val Loss: 2.6674 Acc: 0.2466\n",
      "Epoch [8/30], Train Loss: 2.1003 Acc: 0.3920 | Val Loss: 2.6693 Acc: 0.2297\n",
      "Epoch [9/30], Train Loss: 2.0672 Acc: 0.3947 | Val Loss: 2.6506 Acc: 0.2331\n",
      "Epoch [10/30], Train Loss: 2.0416 Acc: 0.3981 | Val Loss: 2.6649 Acc: 0.2365\n",
      "Epoch [11/30], Train Loss: 2.0238 Acc: 0.3894 | Val Loss: 2.6481 Acc: 0.2399\n",
      "Epoch [12/30], Train Loss: 2.0157 Acc: 0.3996 | Val Loss: 2.6402 Acc: 0.2399\n",
      "Epoch [13/30], Train Loss: 1.9779 Acc: 0.4068 | Val Loss: 2.6298 Acc: 0.2432\n",
      "Epoch [14/30], Train Loss: 1.9967 Acc: 0.3973 | Val Loss: 2.6439 Acc: 0.2365\n",
      "Epoch [15/30], Train Loss: 1.9955 Acc: 0.4148 | Val Loss: 2.6417 Acc: 0.2399\n",
      "Epoch [16/30], Train Loss: 1.9788 Acc: 0.4030 | Val Loss: 2.6397 Acc: 0.2466\n",
      "Epoch [17/30], Train Loss: 1.9568 Acc: 0.4068 | Val Loss: 2.6383 Acc: 0.2432\n",
      "Epoch [18/30], Train Loss: 2.0059 Acc: 0.3981 | Val Loss: 2.6361 Acc: 0.2432\n",
      "Epoch [19/30], Train Loss: 1.9926 Acc: 0.4045 | Val Loss: 2.6369 Acc: 0.2432\n",
      "Epoch [20/30], Train Loss: 1.9817 Acc: 0.4144 | Val Loss: 2.6347 Acc: 0.2432\n",
      "Early stopping triggered\n",
      "Minimun val loss: 2.6298\n"
     ]
    }
   ],
   "source": [
    "cnn_model, train_losses, train_accuracies, val_losses, val_accuracies, = train_model(mid_cnn, train_loader, val_loader, num_epochs, patience, optimizer, loss_fn, scheduler)"
   ]
  },
  {
   "cell_type": "code",
   "execution_count": 30,
   "metadata": {},
   "outputs": [
    {
     "name": "stderr",
     "output_type": "stream",
     "text": [
      "C:\\Users\\alessia\\AppData\\Local\\Temp\\2\\ipykernel_6212\\2917145924.py:10: UserWarning: marker is redundantly defined by the 'marker' keyword argument and the fmt string \"bo-\" (-> marker='o'). The keyword argument will take precedence.\n",
      "  plt.plot(epochs, train_losses, 'bo-', label='Train Loss', color='blue', marker='o')\n",
      "C:\\Users\\alessia\\AppData\\Local\\Temp\\2\\ipykernel_6212\\2917145924.py:10: UserWarning: color is redundantly defined by the 'color' keyword argument and the fmt string \"bo-\" (-> color='b'). The keyword argument will take precedence.\n",
      "  plt.plot(epochs, train_losses, 'bo-', label='Train Loss', color='blue', marker='o')\n",
      "C:\\Users\\alessia\\AppData\\Local\\Temp\\2\\ipykernel_6212\\2917145924.py:11: UserWarning: marker is redundantly defined by the 'marker' keyword argument and the fmt string \"go-\" (-> marker='o'). The keyword argument will take precedence.\n",
      "  plt.plot(epochs, val_losses, 'go-', label='Val Loss', color='green', marker='o')\n",
      "C:\\Users\\alessia\\AppData\\Local\\Temp\\2\\ipykernel_6212\\2917145924.py:11: UserWarning: color is redundantly defined by the 'color' keyword argument and the fmt string \"go-\" (-> color='g'). The keyword argument will take precedence.\n",
      "  plt.plot(epochs, val_losses, 'go-', label='Val Loss', color='green', marker='o')\n",
      "C:\\Users\\alessia\\AppData\\Local\\Temp\\2\\ipykernel_6212\\2917145924.py:14: UserWarning: marker is redundantly defined by the 'marker' keyword argument and the fmt string \"ro-\" (-> marker='o'). The keyword argument will take precedence.\n",
      "  plt.plot(epochs, train_accuracies, 'ro-', label='Train Accuracy', color='red', marker='o')\n",
      "C:\\Users\\alessia\\AppData\\Local\\Temp\\2\\ipykernel_6212\\2917145924.py:14: UserWarning: color is redundantly defined by the 'color' keyword argument and the fmt string \"ro-\" (-> color='r'). The keyword argument will take precedence.\n",
      "  plt.plot(epochs, train_accuracies, 'ro-', label='Train Accuracy', color='red', marker='o')\n",
      "C:\\Users\\alessia\\AppData\\Local\\Temp\\2\\ipykernel_6212\\2917145924.py:15: UserWarning: marker is redundantly defined by the 'marker' keyword argument and the fmt string \"mo-\" (-> marker='o'). The keyword argument will take precedence.\n",
      "  plt.plot(epochs, val_accuracies, 'mo-', label='Val Accuracy', color='magenta', marker='o')\n",
      "C:\\Users\\alessia\\AppData\\Local\\Temp\\2\\ipykernel_6212\\2917145924.py:15: UserWarning: color is redundantly defined by the 'color' keyword argument and the fmt string \"mo-\" (-> color='m'). The keyword argument will take precedence.\n",
      "  plt.plot(epochs, val_accuracies, 'mo-', label='Val Accuracy', color='magenta', marker='o')\n"
     ]
    },
    {
     "data": {
      "image/png": "[encoded data removed]",
      "text/plain": [
       "<Figure size 1000x500 with 1 Axes>"
      ]
     },
     "metadata": {},
     "output_type": "display_data"
    }
   ],
   "source": [
    "import matplotlib.pyplot as plt\n",
    "from typing import List\n",
    "\n",
    "def plot_training_history(train_losses: List[float], val_losses: List[float], train_accuracies: List[float], val_accuracies: List[float]):\n",
    "    epochs = range(1, len(train_losses) + 1)\n",
    "    \n",
    "    plt.figure(figsize=(10, 5))\n",
    "    \n",
    "    # Plot loss\n",
    "    plt.plot(epochs, train_losses, 'bo-', label='Train Loss', color='blue', marker='o')\n",
    "    plt.plot(epochs, val_losses, 'go-', label='Val Loss', color='green', marker='o')\n",
    "    \n",
    "    # Plot accuracy\n",
    "    plt.plot(epochs, train_accuracies, 'ro-', label='Train Accuracy', color='red', marker='o')\n",
    "    plt.plot(epochs, val_accuracies, 'mo-', label='Val Accuracy', color='magenta', marker='o')\n",
    "    \n",
    "    plt.title('Training and Validation Loss and Accuracy')\n",
    "    plt.xlabel('Epochs')\n",
    "    plt.ylabel('Value')\n",
    "    plt.legend()\n",
    "    \n",
    "    plt.show()\n",
    "\n",
    "plot_training_history(train_losses, val_losses, train_accuracies, val_accuracies)"
   ]
  },
  {
   "cell_type": "markdown",
   "metadata": {
    "id": "gkWEqSPoUIL3"
   },
   "source": [
    "## Part 2: fine-tune an existing network\n",
    "\n",
    "Your goal is to fine-tune a pretrained **ResNet-18** model on `GroceryStoreDataset`. Use the implementation provided by PyTorch, do not implement it yourselves! (i.e. exactly what you **could not** do in the first part of the assignment). Specifically, you must use the PyTorch ResNet-18 model pretrained on ImageNet-1K (V1). Divide your fine-tuning into two parts:\n",
    "\n",
    "1. First, fine-tune the Resnet-18 with the same training hyperparameters you used for your best model in the first part of the assignment.\n",
    "1. Then, tweak the training hyperparameters in order to increase the accuracy on the validation split of `GroceryStoreDataset`. Justify your choices by analyzing the training plots and/or citing sources that guided you in your decisions (papers, blog posts, YouTube videos, or whatever else you find enlightening). You should consider yourselves satisfied once you obtain a classification accuracy on the **validation** split **between 80 and 90%**."
   ]
  }
 ],
 "metadata": {
  "colab": {
   "gpuType": "T4",
   "provenance": [],
   "toc_visible": true
  },
  "kernelspec": {
   "display_name": "base",
   "language": "python",
   "name": "python3"
  },
  "language_info": {
   "codemirror_mode": {
    "name": "ipython",
    "version": 3
   },
   "file_extension": ".py",
   "mimetype": "text/x-python",
   "name": "python",
   "nbconvert_exporter": "python",
   "pygments_lexer": "ipython3",
   "version": "3.11.4"
  }
 },
 "nbformat": 4,
 "nbformat_minor": 0
}
